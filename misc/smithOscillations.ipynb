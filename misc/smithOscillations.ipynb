{
 "cells": [
  {
   "cell_type": "code",
   "execution_count": 2,
   "metadata": {},
   "outputs": [],
   "source": [
    "import os\n",
    "import glob\n",
    "import time\n",
    "\n",
    "import pandas as pd\n",
    "import numpy as np\n",
    "import xarray as xr\n",
    "import xesmf as xe\n",
    "from scipy.ndimage import gaussian_filter\n",
    "\n",
    "\n",
    "import matplotlib\n",
    "from matplotlib import pyplot as plt\n",
    "from matplotlib.ticker import NullFormatter\n",
    "matplotlib.rcParams.update({'font.size': 14})\n",
    "%matplotlib inline\n",
    "import cartopy.crs as ccrs\n",
    "import cartopy\n",
    "\n",
    "import os\n",
    "import sys\n",
    "\n",
    "p = os.path.abspath('../..')\n",
    "if p not in sys.path:\n",
    "    sys.path.append(p)\n",
    "\n",
    "from orographicPrecipitation.precip_model_functions import *\n",
    "from orographicPrecipitation.smith_lm import full_linear_model_saturated_monthly\n",
    "from orographicPrecipitation.precip_extremes_scaling import saturation_thermodynamics, moist_adiabatic_lapse_rate, pars\n",
    "\n"
   ]
  },
  {
   "cell_type": "code",
   "execution_count": 14,
   "metadata": {},
   "outputs": [],
   "source": [
    "elev=xr.open_dataset(\"/global/cscratch1/sd/qnicolas/precipmodel/GMTED2010_15n015_00625deg.nc\")"
   ]
  },
  {
   "cell_type": "markdown",
   "metadata": {},
   "source": [
    "## Understanding oscillations"
   ]
  },
  {
   "cell_type": "code",
   "execution_count": 15,
   "metadata": {},
   "outputs": [],
   "source": [
    "\n",
    "\n",
    "EPS = np.finfo(float).eps\n",
    "orog_precise=xr.open_dataset(\"/global/cscratch1/sd/qnicolas/precipmodel/GMTED2010_15n015_00625deg.nc\").elevation\n",
    "orog1 = xr.open_dataset(\"/global/cfs/projectdirs/m3522/cmip6/ERA5/e5.oper.invariant/197901/e5.oper.invariant.128_129_z.ll025sc.1979010100_1979010100.nc\")\n",
    "orog=orog1.Z/9.80665\n",
    "m_per_degreelat = 6370*1e3*np.pi/180\n",
    "def linear_model_saturated(elevation,dx):\n",
    "    temp_surface = np.array([300.])\n",
    "    ps=            np.array([1e5 ])\n",
    "    gamma_m = moist_adiabatic_lapse_rate(temp_surface,ps,'era')\n",
    "    gamma = 0.99*gamma_m\n",
    "    Hw,Cw = HwCw(temp_surface,ps,gamma)\n",
    "    param = {\"latitude\":40.,\n",
    "              \"p0\":0., #assume no background precip rate\n",
    "              \"windspeed\":10.,\n",
    "              \"tau_c\":2000.,\n",
    "              \"tau_f\":2000.,\n",
    "              \"nm\":np.sqrt(9.81/temp_surface*(gamma_m[0]-gamma)), #approximate formula, see Smith 2004\n",
    "              \"hw\":Hw[0],\n",
    "              \"cw\":Cw[0]\n",
    "             }\n",
    "    \n",
    "    pra = compute_orographic_precip(np.array(elevation), dx, **param)*24 #convert mm/hr into mm/day\n",
    "    return pra\n",
    "\n",
    "def HwCw(temp_surface,ps,gamma):\n",
    "    \"\"\"Compute water vapor scale height and coefficient Cw assuming a moist adiabatic atmosphere\n",
    "     - temp_surface = surface temperature (np.array)\n",
    "     - ps = surface pressure (np.array)\n",
    "     - gamma = environment lapse rate\n",
    "    \"\"\"\n",
    "    gamma_m = moist_adiabatic_lapse_rate(temp_surface,ps,'era')\n",
    "    es,_,_,L = saturation_thermodynamics(temp_surface,ps,'era')\n",
    "    Hw = pars('gas_constant_v')*temp_surface**2/(L*gamma)\n",
    "    Cw = es/(pars('gas_constant')*temp_surface)*gamma_m/gamma\n",
    "    return Hw,Cw\n",
    "\n",
    "def compute_orographic_precip(elevation, dx, **param):\n",
    "    # --- wind components\n",
    "    u0 = param['windspeed']\n",
    "    # --- other factors\n",
    "    f_coriolis = 2 * 7.2921e-5 * np.sin(param['latitude'] * np.pi / 180)\n",
    "\n",
    "    # --- pad raster boundaries prior to FFT\n",
    "    calc_pad = int(np.ceil(((sum(elevation.shape))) / 2) / 100 * 100)\n",
    "    pad = min([calc_pad, 200])\n",
    "    h = np.pad(elevation, pad, 'constant')\n",
    "    nx = len(h)\n",
    "    \n",
    "    # --- FFT\n",
    "    hhat = np.fft.fft(h)\n",
    "    x_n_value = np.fft.fftfreq(nx, (1. / nx))\n",
    "    x_len = nx * dx\n",
    "    kx_line = 2 * np.pi * x_n_value / x_len\n",
    "    kx = kx_line\n",
    "\n",
    "    # --- vertical wave number (m)\n",
    "    sigma = kx * u0\n",
    "\n",
    "    mf_num = param['nm']**2 - sigma**2\n",
    "    mf_den = sigma**2 - f_coriolis**2\n",
    "\n",
    "    # numerical stability\n",
    "    mf_num[mf_num < 0] = 0.\n",
    "    mf_den[(mf_den < EPS) & (mf_den >= 0)] = EPS\n",
    "    mf_den[(mf_den > -EPS) & (mf_den < 0)] = -EPS\n",
    "    sign = np.where(sigma >= 0, 1, -1)\n",
    "\n",
    "    m = sign * np.sqrt(np.abs(mf_num / mf_den * (kx**2)))\n",
    "\n",
    "    # --- transfer function\n",
    "    P_karot = ((param['cw'] * 1j * sigma * hhat) /\n",
    "               ((1 - (param['hw'] * m * 1j)) *\n",
    "                (1 + (sigma * param['tau_c'] * 1j)) *\n",
    "                (1 + (sigma * param['tau_f'] * 1j))))\n",
    "    \n",
    "\n",
    "    # --- inverse FFT, de-pad, convert units, add uniform rate\n",
    "    P = np.fft.ifft(P_karot)\n",
    "    P = np.real(P[pad:-pad])\n",
    "    P *= 3600   # mm hr-1\n",
    "    P += param['p0']\n",
    "    P[P < 0] = 0\n",
    "\n",
    "    return P"
   ]
  },
  {
   "cell_type": "code",
   "execution_count": 16,
   "metadata": {},
   "outputs": [
    {
     "data": {
      "text/plain": [
       "[<matplotlib.lines.Line2D at 0x2aaadf862ed0>]"
      ]
     },
     "execution_count": 16,
     "metadata": {},
     "output_type": "execute_result"
    },
    {
     "data": {
      "image/png": "[encoded data removed]",
      "text/plain": [
       "<Figure size 432x288 with 1 Axes>"
      ]
     },
     "metadata": {
      "needs_background": "light"
     },
     "output_type": "display_data"
    }
   ],
   "source": [
    "lonlat2 = box[\"nepal\"][\"small\"]\n",
    "\n",
    "elevation = orog_precise.sel(longitude=slice(lonlat2[0],lonlat2[1]),latitude=slice(lonlat2[3],lonlat2[2]))\n",
    "elev1d = elevation.sel(latitude=89.,method='nearest')\n",
    "\n",
    "elevationC = orog.sel(longitude=slice(lonlat2[0],lonlat2[1]),latitude=slice(lonlat2[3],lonlat2[2]))\n",
    "elev1dC = elevationC.sel(latitude=89.,method='nearest').isel(time=0)\n",
    "\n",
    "elev1d2 = elev1d.interp_like(elev1dC)\n",
    "dx = np.cos(np.array(elevation.latitude[0])*np.pi/180.)*np.abs(np.array(elevation.latitude[1]-elevation.latitude[0]))\n",
    "dxC = np.cos(np.array(elevationC.latitude[0])*np.pi/180.)*np.abs(np.array(elevationC.latitude[1]-elevationC.latitude[0]))\n",
    "\n",
    "longs = np.array(elev1d.longitude)\n",
    "elev1d = np.array(elev1d)\n",
    "longsC = np.array(elev1dC.longitude)\n",
    "elev1dC = np.array(elev1dC)\n",
    "elev1d2 = np.array(elev1d2)\n",
    "\n",
    "elev1dC = 4000*(longsC<85)*(longsC>84)#4000*np.exp(-10*(80-longsC)**2) #1000*(np.cos(2.4*longsC-85)+1)*\n",
    "elev1d = 4000*(longs<85)*(longs>84)#4000*np.exp(-10*(80-longs)**2)\n",
    "\n",
    "plt.plot(longs,elev1d)\n",
    "plt.plot(longsC,elev1d2)\n",
    "plt.plot(longsC,elev1dC)"
   ]
  },
  {
   "cell_type": "code",
   "execution_count": 19,
   "metadata": {},
   "outputs": [
    {
     "data": {
      "text/plain": [
       "[<matplotlib.lines.Line2D at 0x2aaadf83be50>]"
      ]
     },
     "execution_count": 19,
     "metadata": {},
     "output_type": "execute_result"
    },
    {
     "data": {
      "image/png": "[encoded data removed]",
      "text/plain": [
       "<Figure size 432x288 with 1 Axes>"
      ]
     },
     "metadata": {
      "needs_background": "light"
     },
     "output_type": "display_data"
    }
   ],
   "source": [
    "#elev1dC = np.cos(longsC-85)\n",
    "pr=linear_model_saturated(elev1dC,dxC) \n",
    "plt.plot(longsC,pr)\n",
    "\n",
    "#pr\n"
   ]
  },
  {
   "cell_type": "code",
   "execution_count": 18,
   "metadata": {},
   "outputs": [
    {
     "name": "stderr",
     "output_type": "stream",
     "text": [
      "/global/homes/q/qnicolas/.conda/envs/era5/lib/python3.7/site-packages/numpy/core/numeric.py:538: ComplexWarning: Casting complex values to real discards the imaginary part\n",
      "  return array(a, dtype, copy=False, order=order)\n"
     ]
    },
    {
     "data": {
      "text/plain": [
       "[<matplotlib.lines.Line2D at 0x2aaae57cc910>]"
      ]
     },
     "execution_count": 18,
     "metadata": {},
     "output_type": "execute_result"
    },
    {
     "data": {
      "image/png": "[encoded data removed]",
      "text/plain": [
       "<Figure size 432x288 with 1 Axes>"
      ]
     },
     "metadata": {
      "needs_background": "light"
     },
     "output_type": "display_data"
    }
   ],
   "source": [
    "def f(elevation,dx):\n",
    "    calc_pad = int(np.ceil(((sum(elevation.shape))) / 2) / 100 * 100)\n",
    "    pad = min([calc_pad, 200])\n",
    "    h = np.pad(elevation, pad, 'constant')\n",
    "    hhat = np.fft.rfft(h)\n",
    "    freqs = np.fft.rfftfreq(len(h),dx)\n",
    "    return freqs,hhat\n",
    "\n",
    "#elev1d = np.exp(-10*np.linspace(0,10,1000))\n",
    "#elev1dC = np.exp(-10*np.linspace(0,10,100))\n",
    "#dx = 1000\n",
    "#dxC = 10*dx\n",
    "\n",
    "freqs,hhat = f(elev1dC,dxC)\n",
    "freqs2,hhat2 = f(elev1d,dx)\n",
    "\n",
    "fig = plt.figure()\n",
    "plt.plot(freqs,hhat*dxC,'x')\n",
    "plt.plot(freqs2,hhat2*dx,'x')\n"
   ]
  },
  {
   "cell_type": "code",
   "execution_count": 116,
   "metadata": {},
   "outputs": [
    {
     "data": {
      "text/plain": [
       "0.21650635094610968"
      ]
     },
     "execution_count": 116,
     "metadata": {},
     "output_type": "execute_result"
    }
   ],
   "source": [
    "dxC"
   ]
  },
  {
   "cell_type": "code",
   "execution_count": null,
   "metadata": {},
   "outputs": [],
   "source": []
  }
 ],
 "metadata": {
  "kernelspec": {
   "display_name": "ERA5",
   "language": "python",
   "name": "era5"
  },
  "language_info": {
   "codemirror_mode": {
    "name": "ipython",
    "version": 3
   },
   "file_extension": ".py",
   "mimetype": "text/x-python",
   "name": "python",
   "nbconvert_exporter": "python",
   "pygments_lexer": "ipython3",
   "version": "3.7.7"
  }
 },
 "nbformat": 4,
 "nbformat_minor": 4
}
