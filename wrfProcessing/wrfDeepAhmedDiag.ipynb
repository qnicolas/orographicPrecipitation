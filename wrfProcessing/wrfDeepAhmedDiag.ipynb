{
 "cells": [
  {
   "cell_type": "code",
   "execution_count": 1,
   "metadata": {},
   "outputs": [],
   "source": [
    "import os\n",
    "import glob\n",
    "import time\n",
    "\n",
    "import pandas as pd\n",
    "import numpy as np\n",
    "import xarray as xr\n",
    "import datetime\n",
    "\n",
    "\n",
    "import matplotlib\n",
    "from matplotlib import pyplot as plt\n",
    "from matplotlib.ticker import NullFormatter\n",
    "%matplotlib inline\n",
    "matplotlib.rcParams.update({'font.size': 16})\n",
    "\n",
    "import cartopy.crs as ccrs\n",
    "import cartopy\n",
    "\n",
    "from wrf_hr_utils import *\n",
    "from wrfProcessing import *\n",
    "\n",
    "import sys\n",
    "p = os.path.abspath('../..')\n",
    "if p not in sys.path:\n",
    "    sys.path.append(p)\n",
    "\n",
    "from orographicPrecipitation.precip_model_functions import qsat,humidsat\n",
    "from orographicConvectionTheory.orographicConvectionTheory import *\n",
    "SCRATCH='/global/cscratch1/sd/qnicolas/'\n",
    "\n",
    "import metpy.calc as mpcalc\n",
    "from metpy.plots import SkewT\n",
    "from metpy.units import units"
   ]
  },
  {
   "cell_type": "code",
   "execution_count": 2,
   "metadata": {},
   "outputs": [
    {
     "data": {
      "text/plain": [
       "<xarray.core.options.set_options at 0x155550f9e990>"
      ]
     },
     "execution_count": 2,
     "metadata": {},
     "output_type": "execute_result"
    }
   ],
   "source": [
    "xr.set_options(display_style='text') "
   ]
  },
  {
   "cell_type": "markdown",
   "metadata": {
    "jp-MarkdownHeadingCollapsed": true,
    "tags": []
   },
   "source": [
    "# Preprocessing for Ahmed POD"
   ]
  },
  {
   "cell_type": "code",
   "execution_count": 66,
   "metadata": {},
   "outputs": [],
   "source": [
    "deepinput = xr.open_dataset('/global/cscratch1/sd/qnicolas/wrfdata/saved/channel.wrf.100x2.mountain.60lev.3km/wrfinput_d01')\n",
    "deepchannel = extract_wrfout('/global/cscratch1/sd/qnicolas/wrfdata/saved/channel.wrf.100x2.mountain.60lev.3km/')\n",
    "deepchannel_p = extract_wrfpro('/global/cscratch1/sd/qnicolas/wrfdata/saved/channel.wrf.100x2.mountain.60lev.3km/')\n",
    "deepchannelprecip=xr.open_dataarray('/global/cscratch1/sd/qnicolas/wrfdata/saved/channel.wrf.100x2.mountain.60lev.3km/diags/wrf.precip.days0-250.nc')\n",
    "deepchannelprecip_hourly=xr.open_dataarray('/global/cscratch1/sd/qnicolas/wrfdata/saved/channel.wrf.100x2.mountain.60lev.3km/diags/wrf.precip.hourly.days0-250.nc')\n"
   ]
  },
  {
   "cell_type": "code",
   "execution_count": 6,
   "metadata": {},
   "outputs": [],
   "source": [
    "#hrhgt = hrchannel.HGT.isel(south_north=0,Time=-1).persist()\n",
    "#hrdist=(1635-hrhgt.west_east)*3"
   ]
  },
  {
   "cell_type": "code",
   "execution_count": 4,
   "metadata": {},
   "outputs": [],
   "source": [
    "pressure=deepchannel_p.P_PL[-1].load()/100\n",
    "plevs=pressure.assign_attrs({'units':'hPa'})"
   ]
  },
  {
   "cell_type": "code",
   "execution_count": 49,
   "metadata": {},
   "outputs": [
    {
     "name": "stdout",
     "output_type": "stream",
     "text": [
      "CPU times: user 3min 12s, sys: 49min 19s, total: 52min 31s\n",
      "Wall time: 49min 58s\n"
     ]
    }
   ],
   "source": [
    "%%time\n",
    "deepchannel_p.T_PL[2401:,:,:,1675:].coarsen(Time=6).mean().assign_coords(lev=plevs).swap_dims({'num_press_levels_stag':'lev'}).rename(south_north='lat',west_east='lon',Time='time').to_netcdf(\"/global/cscratch1/sd/qnicolas/temp/deepchannel.T_PL.days100-250.6hmean.nc\")\n",
    "deepchannel_p.Q_PL[2401:,:,:,1675:].coarsen(Time=6).mean().assign_coords(lev=plevs).swap_dims({'num_press_levels_stag':'lev'}).rename(south_north='lat',west_east='lon',Time='time').to_netcdf(\"/global/cscratch1/sd/qnicolas/temp/deepchannel.Q_PL.days100-250.6hmean.nc\")\n",
    "deepchannelprecip[-600:,:,1675:].rename(south_north='lat',west_east='lon',Time='time').to_netcdf(\"/global/cscratch1/sd/qnicolas/temp/deepchannel.precip.days100-250.6hmean.nc\")\n"
   ]
  },
  {
   "cell_type": "code",
   "execution_count": 9,
   "metadata": {},
   "outputs": [],
   "source": [
    "xr.open_dataarray(\"/global/cscratch1/sd/qnicolas/temp/deepchannel.T_PL.days100-250.6hmean.nc\")[:,:,:,:100].to_netcdf(\"/global/cscratch1/sd/qnicolas/temp/deepchannel.T_PL.days100-250.6hmean_mtn.nc\")\n",
    "xr.open_dataarray(\"/global/cscratch1/sd/qnicolas/temp/deepchannel.Q_PL.days100-250.6hmean.nc\")[:,:,:,:100].to_netcdf(\"/global/cscratch1/sd/qnicolas/temp/deepchannel.Q_PL.days100-250.6hmean_mtn.nc\")\n",
    "xr.open_dataarray(\"/global/cscratch1/sd/qnicolas/temp/deepchannel.precip.days100-250.6hmean.nc\")[:,:,:100].to_netcdf(\"/global/cscratch1/sd/qnicolas/temp/deepchannel.precip.days100-250.6hmean_mtn.nc\")\n"
   ]
  },
  {
   "cell_type": "code",
   "execution_count": 9,
   "metadata": {},
   "outputs": [
    {
     "name": "stdout",
     "output_type": "stream",
     "text": [
      "CPU times: user 2.02 s, sys: 26.8 s, total: 28.8 s\n",
      "Wall time: 43.3 s\n"
     ]
    }
   ],
   "source": [
    "%%time\n",
    "xr.open_dataarray(\"/global/cscratch1/sd/qnicolas/temp/deepchannel.T_PL.days100-250.6hmean.nc\"  )[:,:,:,-1000:].to_netcdf(\"/global/cscratch1/sd/qnicolas/temp/deepchannel.T_PL.days100-250.6hmean_ups.nc\")\n",
    "xr.open_dataarray(\"/global/cscratch1/sd/qnicolas/temp/deepchannel.Q_PL.days100-250.6hmean.nc\"  )[:,:,:,-1000:].to_netcdf(\"/global/cscratch1/sd/qnicolas/temp/deepchannel.Q_PL.days100-250.6hmean_ups.nc\")\n",
    "xr.open_dataarray(\"/global/cscratch1/sd/qnicolas/temp/deepchannel.precip.days100-250.6hmean.nc\")[:,:,-1000:].to_netcdf(\"/global/cscratch1/sd/qnicolas/temp/deepchannel.precip.days100-250.6hmean_ups.nc\")\n"
   ]
  },
  {
   "cell_type": "code",
   "execution_count": 9,
   "metadata": {},
   "outputs": [
    {
     "name": "stdout",
     "output_type": "stream",
     "text": [
      "CPU times: user 772 ms, sys: 12.2 s, total: 12.9 s\n",
      "Wall time: 18.5 s\n"
     ]
    }
   ],
   "source": [
    "%%time\n",
    "#deepchannel_p.T_PL[2401:,:,:,-1000:].assign_coords(lev=plevs).swap_dims({'num_press_levels_stag':'lev'}).rename(south_north='lat',west_east='lon',Time='time').to_netcdf(\"/global/cscratch1/sd/qnicolas/temp/deepchannel.T_PL.days100-250.hourly_ups.nc\")\n",
    "#deepchannel_p.T_PL[2401:,:,:,-1000:].assign_coords(lev=plevs).swap_dims({'num_press_levels_stag':'lev'}).rename(south_north='lat',west_east='lon',Time='time').to_netcdf(\"/global/cscratch1/sd/qnicolas/temp/deepchannel.T_PL.days100-250.hourly_ups.nc\")\n",
    "deepchannelprecip_hourly[-3600:,:,-1000:].rename(south_north='lat',west_east='lon',Time='time').to_netcdf(\"/global/cscratch1/sd/qnicolas/temp/deepchannel.precip.days100-250.hourly_ups.nc\")\n"
   ]
  },
  {
   "cell_type": "code",
   "execution_count": 35,
   "metadata": {},
   "outputs": [],
   "source": [
    "xr.open_dataset(\"/global/cscratch1/sd/qnicolas/temp/deepchannel.T_PL.days100-250.hourly_ups.nc\").sel(lon=slice(0,66),lat=slice(0,11)).to_netcdf(\"/global/cscratch1/sd/qnicolas/temp/deepchannel.T_PL.days100-250.hourly_ups_18km.nc\")\n",
    "#xr.open_dataset(\"/global/cscratch1/sd/qnicolas/temp/deepchannel.T_PL.days100-250.hourly_ups.nc\").sel(lon=slice(0,66),lat=slice(0,11)).to_netcdf(\"/global/cscratch1/sd/qnicolas/temp/deepchannel.T_PL.days100-250.hourly_ups_18km.nc\")\n",
    "\n"
   ]
  },
  {
   "cell_type": "code",
   "execution_count": 4,
   "metadata": {},
   "outputs": [
    {
     "name": "stdout",
     "output_type": "stream",
     "text": [
      "CPU times: user 3.93 s, sys: 3.77 s, total: 7.7 s\n",
      "Wall time: 9.66 s\n"
     ]
    }
   ],
   "source": [
    "%time xr.open_dataset(\"/global/cscratch1/sd/qnicolas/temp/deepchannel.precip.days100-250.hourly_ups.nc\").sel(lon=slice(400,796)).coarsen(lat=6,lon=6).mean().to_netcdf(\"/global/cscratch1/sd/qnicolas/temp/deepchannel.precip.days100-250.hourly_ups_18km.nc\")\n"
   ]
  },
  {
   "cell_type": "code",
   "execution_count": 5,
   "metadata": {},
   "outputs": [],
   "source": [
    "pr = xr.open_dataarray(\"/global/cscratch1/sd/qnicolas/temp/deepchannel.precip.days100-250.hourly_ups_18km.nc\")\n",
    "(pr*0.+1).isel(time=0).to_netcdf(\"/global/cscratch1/sd/qnicolas/temp/deepchannel.mask_ups_18km.nc\")"
   ]
  },
  {
   "cell_type": "code",
   "execution_count": 42,
   "metadata": {},
   "outputs": [
    {
     "data": {
      "text/html": [
       "<pre>&lt;xarray.Dataset&gt;\n",
       "Dimensions:  (lat: 11, lon: 66)\n",
       "Coordinates:\n",
       "    XLAT     (lat, lon) float32 ...\n",
       "    XLONG    (lat, lon) float32 ...\n",
       "Dimensions without coordinates: lat, lon\n",
       "Data variables:\n",
       "    RAINNC   (lat, lon) float32 ...</pre>"
      ],
      "text/plain": [
       "<xarray.Dataset>\n",
       "Dimensions:  (lat: 11, lon: 66)\n",
       "Coordinates:\n",
       "    XLAT     (lat, lon) float32 ...\n",
       "    XLONG    (lat, lon) float32 ...\n",
       "Dimensions without coordinates: lat, lon\n",
       "Data variables:\n",
       "    RAINNC   (lat, lon) float32 ..."
      ]
     },
     "execution_count": 42,
     "metadata": {},
     "output_type": "execute_result"
    }
   ],
   "source": [
    "xr.open_dataset(\"/global/cscratch1/sd/qnicolas/temp/deepchannel.mask_ups_18km.nc\")"
   ]
  },
  {
   "cell_type": "code",
   "execution_count": 29,
   "metadata": {},
   "outputs": [
    {
     "name": "stdout",
     "output_type": "stream",
     "text": [
      "CPU times: user 8.97 s, sys: 5.3 s, total: 14.3 s\n",
      "Wall time: 14.6 s\n"
     ]
    }
   ],
   "source": [
    "%%time \n",
    "ahmed.sel(lon=slice(0,396)).coarsen(lat=6,lon=6).mean().to_netcdf(\"/global/cscratch1/sd/qnicolas/temp/ahmed.temp.QN_hourly_ups_18km.generated.nc\")\n",
    "\n"
   ]
  },
  {
   "cell_type": "code",
   "execution_count": 18,
   "metadata": {},
   "outputs": [],
   "source": [
    "testold=xr.open_dataset(\"/global/cscratch1/sd/qnicolas/temp/ahmed.binned.QN_hourly_ups.generated.nc\")\n",
    "testnew=xr.open_dataset(\"/global/cscratch1/sd/qnicolas/temp/ahmed.binned.QN_hourly_ups_18km.generated.nc\")"
   ]
  },
  {
   "cell_type": "code",
   "execution_count": 29,
   "metadata": {},
   "outputs": [
    {
     "name": "stdout",
     "output_type": "stream",
     "text": [
      "<xarray.DataArray 'Q2' ()>\n",
      "array(142622.68789273) <xarray.DataArray 'Q2' ()>\n",
      "array(0.)\n"
     ]
    }
   ],
   "source": [
    "var='Q2'\n",
    "print(testold[var].mean(),testnew[var].mean())"
   ]
  },
  {
   "cell_type": "code",
   "execution_count": 63,
   "metadata": {},
   "outputs": [],
   "source": [
    "prs=xr.open_dataarray(\"/global/cscratch1/sd/qnicolas/temp/deepchannel.precip.days100-250.hourly_ups.nc\").isel(lon=slice(400,800))"
   ]
  },
  {
   "cell_type": "code",
   "execution_count": 50,
   "metadata": {},
   "outputs": [],
   "source": [
    "thetaes = xr.open_dataset(\"/global/cscratch1/sd/qnicolas/temp/ahmed.temp.QN_hourly_ups.generated.nc\")"
   ]
  },
  {
   "cell_type": "code",
   "execution_count": 68,
   "metadata": {},
   "outputs": [],
   "source": [
    "bl = 0.5*(thetaes.thetae_bl + thetaes.thetae_lt)/thetaes.thetae_sat_lt -1"
   ]
  },
  {
   "cell_type": "code",
   "execution_count": 47,
   "metadata": {},
   "outputs": [],
   "source": [
    "def get_binned(a,b,bins):\n",
    "    print(float(np.nanmin(a)))\n",
    "    bins=bins[(bins>float(np.nanmin(a)))&(bins<float(np.nanmax(a)))]\n",
    "    print(bins)\n",
    "    bin_centers=(bins[1:]+bins[:-1])/2\n",
    "    digitized = np.digitize(np.array(a), bins)\n",
    "    bin_means = np.array([np.array(b)[digitized == i].mean() for i in range(1, len(bins))])\n",
    "    return bin_centers,bin_means"
   ]
  },
  {
   "cell_type": "code",
   "execution_count": 69,
   "metadata": {},
   "outputs": [
    {
     "data": {
      "text/html": [
       "<pre>&lt;xarray.DataArray ()&gt;\n",
       "array(0.0218738)</pre>"
      ],
      "text/plain": [
       "<xarray.DataArray ()>\n",
       "array(0.0218738)"
      ]
     },
     "execution_count": 69,
     "metadata": {},
     "output_type": "execute_result"
    }
   ],
   "source": [
    "bl.max()"
   ]
  },
  {
   "cell_type": "code",
   "execution_count": 70,
   "metadata": {},
   "outputs": [
    {
     "data": {
      "text/html": [
       "<pre>&lt;xarray.DataArray ()&gt;\n",
       "array(-0.09566337)</pre>"
      ],
      "text/plain": [
       "<xarray.DataArray ()>\n",
       "array(-0.09566337)"
      ]
     },
     "execution_count": 70,
     "metadata": {},
     "output_type": "execute_result"
    }
   ],
   "source": [
    "bl.min()"
   ]
  },
  {
   "cell_type": "code",
   "execution_count": null,
   "metadata": {},
   "outputs": [
    {
     "name": "stdout",
     "output_type": "stream",
     "text": [
      "-0.09566336854986424\n",
      "[-0.095 -0.09  -0.085 -0.08  -0.075 -0.07  -0.065 -0.06  -0.055 -0.05\n",
      " -0.045 -0.04  -0.035 -0.03 ]\n"
     ]
    }
   ],
   "source": [
    "a,b=get_binned(np.array(bl).reshape(-1),np.array(prs).reshape(-1),np.arange(-0.1,0.03,0.005))\n",
    "plt.plot(a,b)"
   ]
  },
  {
   "cell_type": "code",
   "execution_count": 107,
   "metadata": {},
   "outputs": [],
   "source": [
    "binned=xr.open_dataset(\"/global/cscratch1/sd/qnicolas/temp/ahmed.binned.QN_hourly_ups_18km.generated.nc\")"
   ]
  },
  {
   "cell_type": "code",
   "execution_count": null,
   "metadata": {},
   "outputs": [
    {
     "data": {
      "text/plain": [
       "[<matplotlib.lines.Line2D at 0x2aab0d5c8090>]"
      ]
     },
     "execution_count": 113,
     "metadata": {},
     "output_type": "execute_result"
    },
    {
     "data": {
      "image/png": "[encoded data removed]",
      "text/plain": [
       "<Figure size 432x288 with 1 Axes>"
      ]
     },
     "metadata": {
      "needs_background": "light"
     },
     "output_type": "display_data"
    }
   ],
   "source": [
    "binned.Q1.plot()"
   ]
  },
  {
   "cell_type": "markdown",
   "metadata": {},
   "source": [
    "# BL in the mean state"
   ]
  },
  {
   "cell_type": "code",
   "execution_count": 4,
   "metadata": {},
   "outputs": [],
   "source": [
    "import metpy.calc as mpcalc"
   ]
  },
  {
   "cell_type": "code",
   "execution_count": 11,
   "metadata": {},
   "outputs": [],
   "source": [
    "from orographicPrecipitation.wrfProcessing.wrf_hr_utils import change_coords_sfc\n",
    "temp = xr.open_dataarray(\"/global/cfs/projectdirs/m3310/qnicolas/wrf_saved/channel.wrf.100x2.mountain.60lev.3km/diags/wrf.TEMP.days100-250.nc\") #Calculated by breaking down means of 50-day intervals\n",
    "qvapor = xr.open_dataarray(\"/global/cfs/projectdirs/m3310/qnicolas/wrf_saved/channel.wrf.100x2.mountain.60lev.3km/diags/wrf.QVAPOR.days100-250.nc\")\n",
    "pressure = xr.open_dataarray(\"/global/cfs/projectdirs/m3310/qnicolas/wrf_saved/channel.wrf.100x2.mountain.60lev.3km/diags/wrf.PRESSURE.days100-250.nc\")\n",
    "rain = xr.open_dataarray(\"/global/homes/q/qnicolas/orographicConvectionTheory/data/wrf.100x2.mountain.3km.precip.days50-200.mean.nc\")"
   ]
  },
  {
   "cell_type": "code",
   "execution_count": 34,
   "metadata": {},
   "outputs": [],
   "source": [
    "dummpy_output = xr.open_dataset(\"/global/cfs/projectdirs/m3310/qnicolas/wrf_saved/channel.wrf.100x2.mountain.60lev.3km/wrfpout_d01_1970-01-01_00_00_00_subset.nc\")\n",
    "tmean_p = change_coords_pl(dummpy_output,xr.open_dataarray(\"/global/cfs/projectdirs/m3310/qnicolas/wrf_saved/channel.wrf.100x2.mountain.60lev.3km/diags/wrf.T_PL.days100-250.nc\"))\n",
    "qmean_p = change_coords_pl(dummpy_output,xr.open_dataarray(\"/global/cfs/projectdirs/m3310/qnicolas/wrf_saved/channel.wrf.100x2.mountain.60lev.3km/diags/wrf.Q_PL.days100-250.nc\"))\n"
   ]
  },
  {
   "cell_type": "code",
   "execution_count": 47,
   "metadata": {},
   "outputs": [],
   "source": [
    "def BL_wrf_sigmalevs(t,q,p,lft_top_pressure):\n",
    "    t_dew = mpcalc.dewpoint_from_specific_humidity(np.array(q), np.array(t)*units.K, np.array(p)*units.Pa)\n",
    "    zero_array = 0.*p\n",
    "    thetae = zero_array+np.array(mpcalc.equivalent_potential_temperature(np.array(p)*units.Pa,\n",
    "                                                                         np.array(t)*units.K,\n",
    "                                                                         t_dew\n",
    "                                                                        )/units.K)\n",
    "    thetaestar = zero_array+np.array(mpcalc.saturation_equivalent_potential_temperature(np.array(p)*units.Pa,\n",
    "                                                                                        np.array(t)*units.K\n",
    "                                                                                       )/units.K)\n",
    "    \n",
    "    kappaL=3\n",
    "    g=9.81\n",
    "    wB = 0.52\n",
    "    wL = 1-wB\n",
    "    thetae0 = 340\n",
    "    \n",
    "    thetaeB = thetae[:6].mean('bottom_top')\n",
    "    thetaeL = thetae[6:].where(pressure[6:]>lft_top_pressure*100).mean('bottom_top')\n",
    "    thetaeLstar = thetaestar[6:].where(pressure[6:]>lft_top_pressure*100).mean('bottom_top')\n",
    "    \n",
    "    capeL  = change_coords_sfc((thetaeB/thetaeLstar - 1)*thetae0)\n",
    "    subsatL = change_coords_sfc((1 - thetaeL/thetaeLstar)*thetae0)\n",
    "    BL = g/kappaL/thetae0*(wB*capeL-wL*subsatL)\n",
    "    \n",
    "    return BL"
   ]
  },
  {
   "cell_type": "code",
   "execution_count": 43,
   "metadata": {},
   "outputs": [],
   "source": [
    "BL_700hPa = BL_wrf_sigmalevs(temp,qvapor,pressure,700)\n",
    "BL_500hPa = BL_wrf_sigmalevs(temp,qvapor,pressure,500)\n"
   ]
  },
  {
   "cell_type": "code",
   "execution_count": 39,
   "metadata": {},
   "outputs": [
    {
     "data": {
      "text/plain": [
       "<matplotlib.legend.Legend at 0x1555207bb3d0>"
      ]
     },
     "execution_count": 39,
     "metadata": {},
     "output_type": "execute_result"
    },
    {
     "data": {
      "image/png": "[encoded data removed]",
      "text/plain": [
       "<Figure size 1080x216 with 1 Axes>"
      ]
     },
     "metadata": {
      "needs_background": "light"
     },
     "output_type": "display_data"
    }
   ],
   "source": [
    "plt.figure(figsize=(15,3))\n",
    "((BL_700hPa+0.097)*480).plot(label='(WRF B_L_700hPa + 0.1)*480 ',color='orange')\n",
    "((BL_500hPa+0.075)*480).plot(label='(WRF B_L_500hPa + 0.1)*480 ',color='r')\n",
    "change_coords_sfc(rain).plot(label='WRF rain',color='b')\n",
    "\n",
    "plt.ylim(0,25)\n",
    "plt.xlim(-4500,4500)\n",
    "plt.legend()"
   ]
  },
  {
   "cell_type": "code",
   "execution_count": null,
   "metadata": {},
   "outputs": [],
   "source": []
  }
 ],
 "metadata": {
  "kernelspec": {
   "display_name": "ERA5",
   "language": "python",
   "name": "era5"
  },
  "language_info": {
   "codemirror_mode": {
    "name": "ipython",
    "version": 3
   },
   "file_extension": ".py",
   "mimetype": "text/x-python",
   "name": "python",
   "nbconvert_exporter": "python",
   "pygments_lexer": "ipython3",
   "version": "3.7.9"
  },
  "toc-autonumbering": true
 },
 "nbformat": 4,
 "nbformat_minor": 4
}
